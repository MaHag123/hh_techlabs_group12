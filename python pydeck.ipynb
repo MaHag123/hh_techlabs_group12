{
 "cells": [
  {
   "cell_type": "markdown",
   "metadata": {},
   "source": [
    "# 3D MAPS WITH PYDECK\n",
    "For more information on pydeck, visit the python package index or visit the documentation at https://pydeck.gl."
   ]
  },
  {
   "cell_type": "markdown",
   "metadata": {},
   "source": [
    "# DOCUMENTATION"
   ]
  },
  {
   "cell_type": "code",
   "execution_count": 1,
   "metadata": {},
   "outputs": [
    {
     "data": {
      "text/html": [
       "\n",
       "        <iframe\n",
       "            width=\"1000\"\n",
       "            height=\"500\"\n",
       "            src=\"https://pydeck.gl\"\n",
       "            frameborder=\"0\"\n",
       "            allowfullscreen\n",
       "        ></iframe>\n",
       "        "
      ],
      "text/plain": [
       "<IPython.lib.display.IFrame at 0x172f9c97070>"
      ]
     },
     "metadata": {},
     "output_type": "display_data"
    }
   ],
   "source": [
    "from IPython.display import IFrame\n",
    "documentation = IFrame(src='https://pydeck.gl', width=1000, height=500)\n",
    "display(documentation)"
   ]
  },
  {
   "cell_type": "markdown",
   "metadata": {},
   "source": [
    "# NOTES"
   ]
  },
  {
   "cell_type": "code",
   "execution_count": 2,
   "metadata": {},
   "outputs": [],
   "source": [
    "# Mapbox requires an API key\n",
    "# command + scroll to rotate map (different on Windows and other combinations work also - shift + scroll)\n",
    "\n",
    "# PATTERN TO CREATE MAPS\n",
    "# data\n",
    "# view (location, zoom level, etc.)\n",
    "# layer\n",
    "# render map\n",
    "# display and save map (to_html(), show())"
   ]
  },
  {
   "cell_type": "markdown",
   "metadata": {},
   "source": [
    "# IMPORTS"
   ]
  },
  {
   "cell_type": "code",
   "execution_count": 6,
   "metadata": {},
   "outputs": [],
   "source": [
    "import pydeck as pdk\n",
    "import pandas as pd\n",
    "from vega_datasets import data as vds\n",
    "import ipywidgets\n",
    "# use palettable for colormap colors\n",
    "from palettable.cartocolors.sequential import BrwnYl_3\n",
    "import json\n",
    "\n",
    "# enter your api key here\n",
    "api_token = ('pk.eyJ1IjoiYW5zaHVsdG1yIiwiYSI6ImNrc2VxeGEzOTEzOHUycHAzbjhiYW9lNTYifQ.42Mrl0G1PDh7nrjV4M6Gkw')\n",
    "\n",
    "# API key required for mapbox basemap tiles\n",
    "#MAPBOX_API_KEY = api_token\n",
    "\n",
    "# To enable pydeck for Jupyter Notebook:\n",
    "# jupyter nbextension install --sys-prefix --symlink --overwrite --py pydeck\n",
    "# jupyter nbextension enable --sys-prefix --py pydeck"
   ]
  },
  {
   "cell_type": "markdown",
   "metadata": {},
   "source": [
    "# COLUMNLAYER EXAMPLE - POPULATION BY COUNTY"
   ]
  },
  {
   "cell_type": "code",
   "execution_count": 7,
   "metadata": {},
   "outputs": [],
   "source": [
    "gps_data = \"clean_data.csv\"\n",
    "gps_df = pd.read_csv(gps_data)"
   ]
  },
  {
   "cell_type": "code",
   "execution_count": 13,
   "metadata": {
    "scrolled": false
   },
   "outputs": [
    {
     "name": "stdout",
     "output_type": "stream",
     "text": [
      "Index(['@iot.id', 'phenomenonDate', 'result', 'id', 'lat', 'long', 'weekday'], dtype='object')\n"
     ]
    },
    {
     "ename": "TypeError",
     "evalue": "__init__() got an unexpected keyword argument 'mapbox_accesstoken'",
     "output_type": "error",
     "traceback": [
      "\u001b[1;31m---------------------------------------------------------------------------\u001b[0m",
      "\u001b[1;31mTypeError\u001b[0m                                 Traceback (most recent call last)",
      "\u001b[1;32m<ipython-input-13-b3b209712cd4>\u001b[0m in \u001b[0;36m<module>\u001b[1;34m\u001b[0m\n\u001b[0;32m     22\u001b[0m \u001b[1;31m# render map\u001b[0m\u001b[1;33m\u001b[0m\u001b[1;33m\u001b[0m\u001b[1;33m\u001b[0m\u001b[0m\n\u001b[0;32m     23\u001b[0m \u001b[1;31m# with no map_style, map goes to default\u001b[0m\u001b[1;33m\u001b[0m\u001b[1;33m\u001b[0m\u001b[1;33m\u001b[0m\u001b[0m\n\u001b[1;32m---> 24\u001b[1;33m column_layer_map = pdk.Deck(layers=column_layer, \n\u001b[0m\u001b[0;32m     25\u001b[0m                             \u001b[0minitial_view_state\u001b[0m\u001b[1;33m=\u001b[0m\u001b[0mview\u001b[0m\u001b[1;33m,\u001b[0m\u001b[1;33m\u001b[0m\u001b[1;33m\u001b[0m\u001b[0m\n\u001b[0;32m     26\u001b[0m                             mapbox_accesstoken=api_token)\n",
      "\u001b[1;31mTypeError\u001b[0m: __init__() got an unexpected keyword argument 'mapbox_accesstoken'"
     ]
    }
   ],
   "source": [
    "# data\n",
    "# in this example, the population was scaled down\n",
    "# to change visualization, try changing the elevation_scale and radius arguments\n",
    "\n",
    "gps_df['result'] = gps_df['result']/1_000\n",
    "print(gps_df.columns)\n",
    "\n",
    "# view (location, zoom level, etc.)\n",
    "view = pdk.ViewState(latitude=39.155726, longitude=-98.030561, pitch=50, zoom=3)\n",
    "\n",
    "# layer\n",
    "column_layer = pdk.Layer('ColumnLayer',\n",
    "                         data=gps_df,\n",
    "                         get_position=['long', 'lat'],\n",
    "                         get_elevation='result',\n",
    "                         elevation_scale=100,\n",
    "                         radius=5000,\n",
    "                         get_fill_color=[255, 165, 0, 80],\n",
    "                         pickable=True,\n",
    "                         auto_highlight=True)\n",
    "\n",
    "# render map\n",
    "# with no map_style, map goes to default\n",
    "column_layer_map = pdk.Deck(layers=column_layer, \n",
    "                            initial_view_state=view,\n",
    "                            mapbox_accesstoken=api_token)\n",
    "# display and save map (to_html(), show())\n",
    "column_layer_map.show()"
   ]
  },
  {
   "cell_type": "code",
   "execution_count": 6,
   "metadata": {},
   "outputs": [
    {
     "data": {
      "application/vnd.jupyter.widget-view+json": {
       "model_id": "cc8e039d1e0a4a44a4b9202ce6a94339",
       "version_major": 2,
       "version_minor": 0
      },
      "text/plain": [
       "DeckGLWidget(carto_key=None, custom_libraries=[], google_maps_key=None, json_input='{\"initialViewState\": {\"lat…"
      ]
     },
     "metadata": {},
     "output_type": "display_data"
    }
   ],
   "source": [
    "column_layer_map.show()"
   ]
  },
  {
   "cell_type": "markdown",
   "metadata": {},
   "source": [
    "# HEATMAPLAYER"
   ]
  },
  {
   "cell_type": "code",
   "execution_count": null,
   "metadata": {},
   "outputs": [],
   "source": [
    "# data\n",
    "data = 'https://raw.githubusercontent.com/groundhogday321/dataframe-datasets/master/us_population_by_city_2018.csv'\n",
    "city_population = pd.read_csv(data)\n",
    "print(city_population.head())\n",
    "\n",
    "# view (location, zoom level, etc.)\n",
    "view = pdk.ViewState(latitude=39.155726, longitude=-98.030561, pitch=50, zoom=3)\n",
    "\n",
    "# layer\n",
    "heatmap_layer = pdk.Layer('HeatmapLayer',\n",
    "                          data=city_population,\n",
    "                          opacity=0.9,\n",
    "                          get_position=['longitude', 'latitude'],\n",
    "                          color_range=BrwnYl_3.colors,\n",
    "                          threshold=0.2,\n",
    "                          get_weight='Population_2018',\n",
    "                          pickable=True)\n",
    "\n",
    "# render map\n",
    "heatmap_layer_map = pdk.Deck(layers=heatmap_layer,\n",
    "                             initial_view_state=view,\n",
    "                             mapbox_key=MAPBOX_API_KEY)\n",
    "\n",
    "# display and save map (to_html(), show())\n",
    "heatmap_layer_map.show()"
   ]
  },
  {
   "cell_type": "markdown",
   "metadata": {},
   "source": [
    "# ANIMATED\n",
    "### ADD WIDGET FOR INTERACTIVE MAP WITH ANIMATION"
   ]
  },
  {
   "cell_type": "code",
   "execution_count": 11,
   "metadata": {},
   "outputs": [
    {
     "ename": "TypeError",
     "evalue": "__init__() got an unexpected keyword argument 'mapbox_key'",
     "output_type": "error",
     "traceback": [
      "\u001b[1;31m---------------------------------------------------------------------------\u001b[0m",
      "\u001b[1;31mTypeError\u001b[0m                                 Traceback (most recent call last)",
      "\u001b[1;32m<ipython-input-11-34fd22d440cd>\u001b[0m in \u001b[0;36m<module>\u001b[1;34m\u001b[0m\n\u001b[0;32m     18\u001b[0m \u001b[1;31m# render map\u001b[0m\u001b[1;33m\u001b[0m\u001b[1;33m\u001b[0m\u001b[1;33m\u001b[0m\u001b[0m\n\u001b[0;32m     19\u001b[0m \u001b[1;31m# with no map_style, map goes to default\u001b[0m\u001b[1;33m\u001b[0m\u001b[1;33m\u001b[0m\u001b[1;33m\u001b[0m\u001b[0m\n\u001b[1;32m---> 20\u001b[1;33m gapminder_layer_map = pdk.Deck(layers=gapminder_layer, \n\u001b[0m\u001b[0;32m     21\u001b[0m                                \u001b[0minitial_view_state\u001b[0m\u001b[1;33m=\u001b[0m\u001b[0mview\u001b[0m\u001b[1;33m,\u001b[0m\u001b[1;33m\u001b[0m\u001b[1;33m\u001b[0m\u001b[0m\n\u001b[0;32m     22\u001b[0m                                mapbox_key=api_token)\n",
      "\u001b[1;31mTypeError\u001b[0m: __init__() got an unexpected keyword argument 'mapbox_key'"
     ]
    }
   ],
   "source": [
    "# data\n",
    "# in this example, the population was scaled down\n",
    "gapminder = gps_df\n",
    "# view (location, zoom level, etc.)\n",
    "view = pdk.ViewState(latitude=39, longitude=35, pitch=50, zoom=1)\n",
    "\n",
    "# layer\n",
    "gapminder_layer = pdk.Layer('ColumnLayer',\n",
    "                             data=gapminder,\n",
    "                             get_position=['long', 'lat'],\n",
    "                             get_elevation='result',\n",
    "                             elevation_scale=100,\n",
    "                             radius=200_000,\n",
    "                             get_fill_color=[255, 165, 0, 80],\n",
    "                             pickable=True,\n",
    "                             auto_highlight=True)\n",
    "\n",
    "# render map\n",
    "# with no map_style, map goes to default\n",
    "gapminder_layer_map = pdk.Deck(layers=gapminder_layer, \n",
    "                               initial_view_state=view,\n",
    "                               mapbox_key=api_token)\n",
    "\n",
    "# display and save map (to_html(), show())\n",
    "# display(gapminder_layer_map.show())\n",
    "# display at botton\n",
    "\n",
    "# widgets\n",
    "slider = ipywidgets.IntSlider(value=1955, min=1955, max=2005, step=5)\n",
    "play = ipywidgets.Play(value=1955, min=1955, max=2005, step=5, description='Press play', interval=1_000)\n",
    "ipywidgets.jslink((play, 'value'), (slider, 'value'))\n",
    "layout = ipywidgets.HBox([slider, play])\n",
    "\n",
    "# function\n",
    "def update_plot(year):\n",
    "    gapminder_layer.data = gapminder[gapminder['year'] == year]\n",
    "    return gapminder_layer_map.update()\n",
    "\n",
    "# interaction between widget and function\n",
    "interact = ipywidgets.interactive_output(update_plot, {'year': slider});\n",
    "display(layout, interact)\n",
    "\n",
    "# display and save map (to_html(), show())\n",
    "gapminder_layer_map.to_html('test.html')"
   ]
  },
  {
   "cell_type": "code",
   "execution_count": null,
   "metadata": {},
   "outputs": [],
   "source": []
  }
 ],
 "metadata": {
  "kernelspec": {
   "display_name": "Python 3",
   "language": "python",
   "name": "python3"
  },
  "language_info": {
   "codemirror_mode": {
    "name": "ipython",
    "version": 3
   },
   "file_extension": ".py",
   "mimetype": "text/x-python",
   "name": "python",
   "nbconvert_exporter": "python",
   "pygments_lexer": "ipython3",
   "version": "3.8.8"
  },
  "varInspector": {
   "cols": {
    "lenName": 16,
    "lenType": 16,
    "lenVar": 40
   },
   "kernels_config": {
    "python": {
     "delete_cmd_postfix": "",
     "delete_cmd_prefix": "del ",
     "library": "var_list.py",
     "varRefreshCmd": "print(var_dic_list())"
    },
    "r": {
     "delete_cmd_postfix": ") ",
     "delete_cmd_prefix": "rm(",
     "library": "var_list.r",
     "varRefreshCmd": "cat(var_dic_list()) "
    }
   },
   "types_to_exclude": [
    "module",
    "function",
    "builtin_function_or_method",
    "instance",
    "_Feature"
   ],
   "window_display": false
  }
 },
 "nbformat": 4,
 "nbformat_minor": 4
}
